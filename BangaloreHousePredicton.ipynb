{
 "cells": [
  {
   "cell_type": "code",
   "execution_count": 154,
   "id": "893447ff",
   "metadata": {},
   "outputs": [],
   "source": [
    "import pandas as pd\n",
    "import numpy as np"
   ]
  },
  {
   "cell_type": "code",
   "execution_count": 155,
   "id": "c35feef8",
   "metadata": {},
   "outputs": [
    {
     "data": {
      "text/html": [
       "<div>\n",
       "<style scoped>\n",
       "    .dataframe tbody tr th:only-of-type {\n",
       "        vertical-align: middle;\n",
       "    }\n",
       "\n",
       "    .dataframe tbody tr th {\n",
       "        vertical-align: top;\n",
       "    }\n",
       "\n",
       "    .dataframe thead th {\n",
       "        text-align: right;\n",
       "    }\n",
       "</style>\n",
       "<table border=\"1\" class=\"dataframe\">\n",
       "  <thead>\n",
       "    <tr style=\"text-align: right;\">\n",
       "      <th></th>\n",
       "      <th>area_type</th>\n",
       "      <th>availability</th>\n",
       "      <th>location</th>\n",
       "      <th>size</th>\n",
       "      <th>society</th>\n",
       "      <th>total_sqft</th>\n",
       "      <th>bath</th>\n",
       "      <th>balcony</th>\n",
       "      <th>price</th>\n",
       "    </tr>\n",
       "  </thead>\n",
       "  <tbody>\n",
       "    <tr>\n",
       "      <th>0</th>\n",
       "      <td>Super built-up  Area</td>\n",
       "      <td>19-Dec</td>\n",
       "      <td>Electronic City Phase II</td>\n",
       "      <td>2 BHK</td>\n",
       "      <td>Coomee</td>\n",
       "      <td>1056</td>\n",
       "      <td>2.0</td>\n",
       "      <td>1.0</td>\n",
       "      <td>39.07</td>\n",
       "    </tr>\n",
       "    <tr>\n",
       "      <th>1</th>\n",
       "      <td>Plot  Area</td>\n",
       "      <td>Ready To Move</td>\n",
       "      <td>Chikka Tirupathi</td>\n",
       "      <td>4 Bedroom</td>\n",
       "      <td>Theanmp</td>\n",
       "      <td>2600</td>\n",
       "      <td>5.0</td>\n",
       "      <td>3.0</td>\n",
       "      <td>120.00</td>\n",
       "    </tr>\n",
       "    <tr>\n",
       "      <th>2</th>\n",
       "      <td>Built-up  Area</td>\n",
       "      <td>Ready To Move</td>\n",
       "      <td>Uttarahalli</td>\n",
       "      <td>3 BHK</td>\n",
       "      <td>NaN</td>\n",
       "      <td>1440</td>\n",
       "      <td>2.0</td>\n",
       "      <td>3.0</td>\n",
       "      <td>62.00</td>\n",
       "    </tr>\n",
       "    <tr>\n",
       "      <th>3</th>\n",
       "      <td>Super built-up  Area</td>\n",
       "      <td>Ready To Move</td>\n",
       "      <td>Lingadheeranahalli</td>\n",
       "      <td>3 BHK</td>\n",
       "      <td>Soiewre</td>\n",
       "      <td>1521</td>\n",
       "      <td>3.0</td>\n",
       "      <td>1.0</td>\n",
       "      <td>95.00</td>\n",
       "    </tr>\n",
       "    <tr>\n",
       "      <th>4</th>\n",
       "      <td>Super built-up  Area</td>\n",
       "      <td>Ready To Move</td>\n",
       "      <td>Kothanur</td>\n",
       "      <td>2 BHK</td>\n",
       "      <td>NaN</td>\n",
       "      <td>1200</td>\n",
       "      <td>2.0</td>\n",
       "      <td>1.0</td>\n",
       "      <td>51.00</td>\n",
       "    </tr>\n",
       "  </tbody>\n",
       "</table>\n",
       "</div>"
      ],
      "text/plain": [
       "              area_type   availability                  location       size  \\\n",
       "0  Super built-up  Area         19-Dec  Electronic City Phase II      2 BHK   \n",
       "1            Plot  Area  Ready To Move          Chikka Tirupathi  4 Bedroom   \n",
       "2        Built-up  Area  Ready To Move               Uttarahalli      3 BHK   \n",
       "3  Super built-up  Area  Ready To Move        Lingadheeranahalli      3 BHK   \n",
       "4  Super built-up  Area  Ready To Move                  Kothanur      2 BHK   \n",
       "\n",
       "   society total_sqft  bath  balcony   price  \n",
       "0  Coomee        1056   2.0      1.0   39.07  \n",
       "1  Theanmp       2600   5.0      3.0  120.00  \n",
       "2      NaN       1440   2.0      3.0   62.00  \n",
       "3  Soiewre       1521   3.0      1.0   95.00  \n",
       "4      NaN       1200   2.0      1.0   51.00  "
      ]
     },
     "execution_count": 155,
     "metadata": {},
     "output_type": "execute_result"
    }
   ],
   "source": [
    "df = pd.read_csv(\"Bengaluru_House_Data.csv\")\n",
    "df.head()"
   ]
  },
  {
   "cell_type": "code",
   "execution_count": 156,
   "id": "97290aa9",
   "metadata": {},
   "outputs": [
    {
     "data": {
      "text/plain": [
       "(13320, 9)"
      ]
     },
     "execution_count": 156,
     "metadata": {},
     "output_type": "execute_result"
    }
   ],
   "source": [
    "df.shape"
   ]
  },
  {
   "cell_type": "code",
   "execution_count": 157,
   "id": "ed61d4c1",
   "metadata": {},
   "outputs": [
    {
     "name": "stdout",
     "output_type": "stream",
     "text": [
      "<class 'pandas.core.frame.DataFrame'>\n",
      "RangeIndex: 13320 entries, 0 to 13319\n",
      "Data columns (total 9 columns):\n",
      " #   Column        Non-Null Count  Dtype  \n",
      "---  ------        --------------  -----  \n",
      " 0   area_type     13320 non-null  object \n",
      " 1   availability  13320 non-null  object \n",
      " 2   location      13319 non-null  object \n",
      " 3   size          13304 non-null  object \n",
      " 4   society       7818 non-null   object \n",
      " 5   total_sqft    13320 non-null  object \n",
      " 6   bath          13247 non-null  float64\n",
      " 7   balcony       12711 non-null  float64\n",
      " 8   price         13320 non-null  float64\n",
      "dtypes: float64(3), object(6)\n",
      "memory usage: 936.7+ KB\n"
     ]
    }
   ],
   "source": [
    "df.info()"
   ]
  },
  {
   "cell_type": "code",
   "execution_count": 158,
   "id": "5058910c",
   "metadata": {},
   "outputs": [
    {
     "data": {
      "text/plain": [
       "area_type          0\n",
       "availability       0\n",
       "location           1\n",
       "size              16\n",
       "society         5502\n",
       "total_sqft         0\n",
       "bath              73\n",
       "balcony          609\n",
       "price              0\n",
       "dtype: int64"
      ]
     },
     "execution_count": 158,
     "metadata": {},
     "output_type": "execute_result"
    }
   ],
   "source": [
    "df.isnull().sum()"
   ]
  },
  {
   "cell_type": "code",
   "execution_count": 159,
   "id": "631d976b",
   "metadata": {},
   "outputs": [
    {
     "name": "stdout",
     "output_type": "stream",
     "text": [
      "Super built-up  Area    8790\n",
      "Built-up  Area          2418\n",
      "Plot  Area              2025\n",
      "Carpet  Area              87\n",
      "Name: area_type, dtype: int64\n",
      "********************\n",
      "Ready To Move    10581\n",
      "18-Dec             307\n",
      "18-May             295\n",
      "18-Apr             271\n",
      "18-Aug             200\n",
      "                 ...  \n",
      "15-Aug               1\n",
      "17-Jan               1\n",
      "16-Nov               1\n",
      "16-Jan               1\n",
      "14-Jul               1\n",
      "Name: availability, Length: 81, dtype: int64\n",
      "********************\n",
      "Whitefield                        540\n",
      "Sarjapur  Road                    399\n",
      "Electronic City                   302\n",
      "Kanakpura Road                    273\n",
      "Thanisandra                       234\n",
      "                                 ... \n",
      "Bapuji Layout                       1\n",
      "1st Stage Radha Krishna Layout      1\n",
      "BEML Layout 5th stage               1\n",
      "singapura paradise                  1\n",
      "Abshot Layout                       1\n",
      "Name: location, Length: 1305, dtype: int64\n",
      "********************\n",
      "2 BHK         5199\n",
      "3 BHK         4310\n",
      "4 Bedroom      826\n",
      "4 BHK          591\n",
      "3 Bedroom      547\n",
      "1 BHK          538\n",
      "2 Bedroom      329\n",
      "5 Bedroom      297\n",
      "6 Bedroom      191\n",
      "1 Bedroom      105\n",
      "8 Bedroom       84\n",
      "7 Bedroom       83\n",
      "5 BHK           59\n",
      "9 Bedroom       46\n",
      "6 BHK           30\n",
      "7 BHK           17\n",
      "1 RK            13\n",
      "10 Bedroom      12\n",
      "9 BHK            8\n",
      "8 BHK            5\n",
      "11 BHK           2\n",
      "11 Bedroom       2\n",
      "10 BHK           2\n",
      "14 BHK           1\n",
      "13 BHK           1\n",
      "12 Bedroom       1\n",
      "27 BHK           1\n",
      "43 Bedroom       1\n",
      "16 BHK           1\n",
      "19 BHK           1\n",
      "18 Bedroom       1\n",
      "Name: size, dtype: int64\n",
      "********************\n",
      "GrrvaGr    80\n",
      "PrarePa    76\n",
      "Sryalan    59\n",
      "Prtates    59\n",
      "GMown E    56\n",
      "           ..\n",
      "Amionce     1\n",
      "JaghtDe     1\n",
      "Jauraht     1\n",
      "Brity U     1\n",
      "RSntsAp     1\n",
      "Name: society, Length: 2688, dtype: int64\n",
      "********************\n",
      "1200    843\n",
      "1100    221\n",
      "1500    205\n",
      "2400    196\n",
      "600     180\n",
      "       ... \n",
      "3580      1\n",
      "2461      1\n",
      "1437      1\n",
      "2155      1\n",
      "4689      1\n",
      "Name: total_sqft, Length: 2117, dtype: int64\n",
      "********************\n",
      "2.0     6908\n",
      "3.0     3286\n",
      "4.0     1226\n",
      "1.0      788\n",
      "5.0      524\n",
      "6.0      273\n",
      "7.0      102\n",
      "8.0       64\n",
      "9.0       43\n",
      "10.0      13\n",
      "12.0       7\n",
      "13.0       3\n",
      "11.0       3\n",
      "16.0       2\n",
      "27.0       1\n",
      "40.0       1\n",
      "15.0       1\n",
      "14.0       1\n",
      "18.0       1\n",
      "Name: bath, dtype: int64\n",
      "********************\n",
      "2.0    5113\n",
      "1.0    4897\n",
      "3.0    1672\n",
      "0.0    1029\n",
      "Name: balcony, dtype: int64\n",
      "********************\n",
      "75.00     310\n",
      "65.00     302\n",
      "55.00     275\n",
      "60.00     270\n",
      "45.00     240\n",
      "         ... \n",
      "351.00      1\n",
      "54.10       1\n",
      "80.64       1\n",
      "32.73       1\n",
      "488.00      1\n",
      "Name: price, Length: 1994, dtype: int64\n",
      "********************\n"
     ]
    }
   ],
   "source": [
    "for column in df.columns:\n",
    "    print(df[column].value_counts())\n",
    "    print(\"*\"*20)"
   ]
  },
  {
   "cell_type": "code",
   "execution_count": 160,
   "id": "9c87cb50",
   "metadata": {},
   "outputs": [],
   "source": [
    "df.drop(columns=[\"area_type\",\"availability\",\"society\",\"balcony\"],inplace=True)"
   ]
  },
  {
   "cell_type": "code",
   "execution_count": 161,
   "id": "e89cc3bc",
   "metadata": {},
   "outputs": [
    {
     "data": {
      "text/html": [
       "<div>\n",
       "<style scoped>\n",
       "    .dataframe tbody tr th:only-of-type {\n",
       "        vertical-align: middle;\n",
       "    }\n",
       "\n",
       "    .dataframe tbody tr th {\n",
       "        vertical-align: top;\n",
       "    }\n",
       "\n",
       "    .dataframe thead th {\n",
       "        text-align: right;\n",
       "    }\n",
       "</style>\n",
       "<table border=\"1\" class=\"dataframe\">\n",
       "  <thead>\n",
       "    <tr style=\"text-align: right;\">\n",
       "      <th></th>\n",
       "      <th>bath</th>\n",
       "      <th>price</th>\n",
       "    </tr>\n",
       "  </thead>\n",
       "  <tbody>\n",
       "    <tr>\n",
       "      <th>count</th>\n",
       "      <td>13247.000000</td>\n",
       "      <td>13320.000000</td>\n",
       "    </tr>\n",
       "    <tr>\n",
       "      <th>mean</th>\n",
       "      <td>2.692610</td>\n",
       "      <td>112.565627</td>\n",
       "    </tr>\n",
       "    <tr>\n",
       "      <th>std</th>\n",
       "      <td>1.341458</td>\n",
       "      <td>148.971674</td>\n",
       "    </tr>\n",
       "    <tr>\n",
       "      <th>min</th>\n",
       "      <td>1.000000</td>\n",
       "      <td>8.000000</td>\n",
       "    </tr>\n",
       "    <tr>\n",
       "      <th>25%</th>\n",
       "      <td>2.000000</td>\n",
       "      <td>50.000000</td>\n",
       "    </tr>\n",
       "    <tr>\n",
       "      <th>50%</th>\n",
       "      <td>2.000000</td>\n",
       "      <td>72.000000</td>\n",
       "    </tr>\n",
       "    <tr>\n",
       "      <th>75%</th>\n",
       "      <td>3.000000</td>\n",
       "      <td>120.000000</td>\n",
       "    </tr>\n",
       "    <tr>\n",
       "      <th>max</th>\n",
       "      <td>40.000000</td>\n",
       "      <td>3600.000000</td>\n",
       "    </tr>\n",
       "  </tbody>\n",
       "</table>\n",
       "</div>"
      ],
      "text/plain": [
       "               bath         price\n",
       "count  13247.000000  13320.000000\n",
       "mean       2.692610    112.565627\n",
       "std        1.341458    148.971674\n",
       "min        1.000000      8.000000\n",
       "25%        2.000000     50.000000\n",
       "50%        2.000000     72.000000\n",
       "75%        3.000000    120.000000\n",
       "max       40.000000   3600.000000"
      ]
     },
     "execution_count": 161,
     "metadata": {},
     "output_type": "execute_result"
    }
   ],
   "source": [
    "df.describe()"
   ]
  },
  {
   "cell_type": "code",
   "execution_count": 162,
   "id": "51d7aebc",
   "metadata": {},
   "outputs": [
    {
     "name": "stdout",
     "output_type": "stream",
     "text": [
      "<class 'pandas.core.frame.DataFrame'>\n",
      "RangeIndex: 13320 entries, 0 to 13319\n",
      "Data columns (total 5 columns):\n",
      " #   Column      Non-Null Count  Dtype  \n",
      "---  ------      --------------  -----  \n",
      " 0   location    13319 non-null  object \n",
      " 1   size        13304 non-null  object \n",
      " 2   total_sqft  13320 non-null  object \n",
      " 3   bath        13247 non-null  float64\n",
      " 4   price       13320 non-null  float64\n",
      "dtypes: float64(2), object(3)\n",
      "memory usage: 520.4+ KB\n"
     ]
    }
   ],
   "source": [
    "df.info()"
   ]
  },
  {
   "cell_type": "code",
   "execution_count": 163,
   "id": "7f483f76",
   "metadata": {},
   "outputs": [
    {
     "data": {
      "text/plain": [
       "Whitefield                  540\n",
       "Sarjapur  Road              399\n",
       "Electronic City             302\n",
       "Kanakpura Road              273\n",
       "Thanisandra                 234\n",
       "Yelahanka                   213\n",
       "Uttarahalli                 186\n",
       "Hebbal                      177\n",
       "Marathahalli                175\n",
       "Raja Rajeshwari Nagar       171\n",
       "Bannerghatta Road           152\n",
       "Hennur Road                 152\n",
       "7th Phase JP Nagar          149\n",
       "Haralur Road                142\n",
       "Electronic City Phase II    132\n",
       "Rajaji Nagar                107\n",
       "Chandapura                  100\n",
       "Bellandur                    96\n",
       "KR Puram                     91\n",
       "Electronics City Phase 1     88\n",
       "Hoodi                        88\n",
       "Yeshwanthpur                 85\n",
       "Begur Road                   84\n",
       "Sarjapur                     82\n",
       "Kasavanhalli                 80\n",
       "Name: location, dtype: int64"
      ]
     },
     "execution_count": 163,
     "metadata": {},
     "output_type": "execute_result"
    }
   ],
   "source": [
    "df[\"location\"].value_counts().head(25)"
   ]
  },
  {
   "cell_type": "code",
   "execution_count": 164,
   "id": "f5e3a121",
   "metadata": {},
   "outputs": [],
   "source": [
    "df[\"location\"]= df[\"location\"].fillna(\"Sarjapur Road\")"
   ]
  },
  {
   "cell_type": "code",
   "execution_count": 165,
   "id": "8af3123b",
   "metadata": {},
   "outputs": [
    {
     "data": {
      "text/plain": [
       "0"
      ]
     },
     "execution_count": 165,
     "metadata": {},
     "output_type": "execute_result"
    }
   ],
   "source": [
    "df[\"location\"].isnull().sum()"
   ]
  },
  {
   "cell_type": "code",
   "execution_count": 166,
   "id": "7aaeacad",
   "metadata": {},
   "outputs": [
    {
     "data": {
      "text/plain": [
       "2 BHK         5199\n",
       "3 BHK         4310\n",
       "4 Bedroom      826\n",
       "4 BHK          591\n",
       "3 Bedroom      547\n",
       "1 BHK          538\n",
       "2 Bedroom      329\n",
       "5 Bedroom      297\n",
       "6 Bedroom      191\n",
       "1 Bedroom      105\n",
       "8 Bedroom       84\n",
       "7 Bedroom       83\n",
       "5 BHK           59\n",
       "9 Bedroom       46\n",
       "6 BHK           30\n",
       "7 BHK           17\n",
       "1 RK            13\n",
       "10 Bedroom      12\n",
       "9 BHK            8\n",
       "8 BHK            5\n",
       "11 BHK           2\n",
       "11 Bedroom       2\n",
       "10 BHK           2\n",
       "14 BHK           1\n",
       "13 BHK           1\n",
       "12 Bedroom       1\n",
       "27 BHK           1\n",
       "43 Bedroom       1\n",
       "16 BHK           1\n",
       "19 BHK           1\n",
       "18 Bedroom       1\n",
       "Name: size, dtype: int64"
      ]
     },
     "execution_count": 166,
     "metadata": {},
     "output_type": "execute_result"
    }
   ],
   "source": [
    "df[\"size\"].value_counts()"
   ]
  },
  {
   "cell_type": "code",
   "execution_count": 167,
   "id": "6c98a2e2",
   "metadata": {},
   "outputs": [],
   "source": [
    "df[\"size\"]= df[\"size\"].fillna(\"2 BHK\")"
   ]
  },
  {
   "cell_type": "code",
   "execution_count": 168,
   "id": "2c2937da",
   "metadata": {},
   "outputs": [
    {
     "data": {
      "text/plain": [
       "0"
      ]
     },
     "execution_count": 168,
     "metadata": {},
     "output_type": "execute_result"
    }
   ],
   "source": [
    "df[\"size\"].isnull().sum()"
   ]
  },
  {
   "cell_type": "code",
   "execution_count": 169,
   "id": "0ee099e9",
   "metadata": {},
   "outputs": [
    {
     "data": {
      "text/plain": [
       "73"
      ]
     },
     "execution_count": 169,
     "metadata": {},
     "output_type": "execute_result"
    }
   ],
   "source": [
    "df[\"bath\"].isnull().sum()"
   ]
  },
  {
   "cell_type": "code",
   "execution_count": 170,
   "id": "d86302cd",
   "metadata": {},
   "outputs": [],
   "source": [
    "df[\"bath\"] =df[\"bath\"].fillna(df[\"bath\"].median())"
   ]
  },
  {
   "cell_type": "code",
   "execution_count": 171,
   "id": "a4f24e84",
   "metadata": {},
   "outputs": [
    {
     "data": {
      "text/plain": [
       "0"
      ]
     },
     "execution_count": 171,
     "metadata": {},
     "output_type": "execute_result"
    }
   ],
   "source": [
    "df.bath.isnull().sum()"
   ]
  },
  {
   "cell_type": "code",
   "execution_count": 172,
   "id": "a23da706",
   "metadata": {},
   "outputs": [
    {
     "data": {
      "text/plain": [
       "location      0\n",
       "size          0\n",
       "total_sqft    0\n",
       "bath          0\n",
       "price         0\n",
       "dtype: int64"
      ]
     },
     "execution_count": 172,
     "metadata": {},
     "output_type": "execute_result"
    }
   ],
   "source": [
    "df.isnull().sum()"
   ]
  },
  {
   "cell_type": "code",
   "execution_count": 173,
   "id": "6a980239",
   "metadata": {},
   "outputs": [
    {
     "data": {
      "text/plain": [
       "882"
      ]
     },
     "execution_count": 173,
     "metadata": {},
     "output_type": "execute_result"
    }
   ],
   "source": [
    "df.duplicated().sum()"
   ]
  },
  {
   "cell_type": "code",
   "execution_count": 174,
   "id": "cece5ff7",
   "metadata": {},
   "outputs": [
    {
     "name": "stdout",
     "output_type": "stream",
     "text": [
      "<class 'pandas.core.frame.DataFrame'>\n",
      "RangeIndex: 13320 entries, 0 to 13319\n",
      "Data columns (total 5 columns):\n",
      " #   Column      Non-Null Count  Dtype  \n",
      "---  ------      --------------  -----  \n",
      " 0   location    13320 non-null  object \n",
      " 1   size        13320 non-null  object \n",
      " 2   total_sqft  13320 non-null  object \n",
      " 3   bath        13320 non-null  float64\n",
      " 4   price       13320 non-null  float64\n",
      "dtypes: float64(2), object(3)\n",
      "memory usage: 520.4+ KB\n"
     ]
    }
   ],
   "source": [
    "df.info()"
   ]
  },
  {
   "cell_type": "code",
   "execution_count": 175,
   "id": "9dd2344b",
   "metadata": {},
   "outputs": [],
   "source": [
    "df[\"bhk\"]=df[\"size\"].str.split().str.get(0).astype(int)"
   ]
  },
  {
   "cell_type": "code",
   "execution_count": 176,
   "id": "1502a6b2",
   "metadata": {},
   "outputs": [
    {
     "data": {
      "text/html": [
       "<div>\n",
       "<style scoped>\n",
       "    .dataframe tbody tr th:only-of-type {\n",
       "        vertical-align: middle;\n",
       "    }\n",
       "\n",
       "    .dataframe tbody tr th {\n",
       "        vertical-align: top;\n",
       "    }\n",
       "\n",
       "    .dataframe thead th {\n",
       "        text-align: right;\n",
       "    }\n",
       "</style>\n",
       "<table border=\"1\" class=\"dataframe\">\n",
       "  <thead>\n",
       "    <tr style=\"text-align: right;\">\n",
       "      <th></th>\n",
       "      <th>location</th>\n",
       "      <th>size</th>\n",
       "      <th>total_sqft</th>\n",
       "      <th>bath</th>\n",
       "      <th>price</th>\n",
       "      <th>bhk</th>\n",
       "    </tr>\n",
       "  </thead>\n",
       "  <tbody>\n",
       "    <tr>\n",
       "      <th>1718</th>\n",
       "      <td>2Electronic City Phase II</td>\n",
       "      <td>27 BHK</td>\n",
       "      <td>8000</td>\n",
       "      <td>27.0</td>\n",
       "      <td>230.0</td>\n",
       "      <td>27</td>\n",
       "    </tr>\n",
       "    <tr>\n",
       "      <th>4684</th>\n",
       "      <td>Munnekollal</td>\n",
       "      <td>43 Bedroom</td>\n",
       "      <td>2400</td>\n",
       "      <td>40.0</td>\n",
       "      <td>660.0</td>\n",
       "      <td>43</td>\n",
       "    </tr>\n",
       "  </tbody>\n",
       "</table>\n",
       "</div>"
      ],
      "text/plain": [
       "                       location        size total_sqft  bath  price  bhk\n",
       "1718  2Electronic City Phase II      27 BHK       8000  27.0  230.0   27\n",
       "4684                Munnekollal  43 Bedroom       2400  40.0  660.0   43"
      ]
     },
     "execution_count": 176,
     "metadata": {},
     "output_type": "execute_result"
    }
   ],
   "source": [
    "df[df.bhk>20]"
   ]
  },
  {
   "cell_type": "code",
   "execution_count": 177,
   "id": "021c3a28",
   "metadata": {},
   "outputs": [],
   "source": [
    "def convertRange(x):\n",
    "    temp =x.split(\"-\")\n",
    "    if len(temp)==2:\n",
    "        return (float(temp[0])+float(temp[1]))/2\n",
    "    try:\n",
    "        return float(x)\n",
    "    except:\n",
    "        return None"
   ]
  },
  {
   "cell_type": "code",
   "execution_count": 178,
   "id": "f7f707bc",
   "metadata": {},
   "outputs": [],
   "source": [
    "df[\"total_sqft\"] = df[\"total_sqft\"].apply(convertRange)"
   ]
  },
  {
   "cell_type": "code",
   "execution_count": 179,
   "id": "bceb3562",
   "metadata": {},
   "outputs": [
    {
     "data": {
      "text/plain": [
       "0        1056.0\n",
       "1        2600.0\n",
       "2        1440.0\n",
       "3        1521.0\n",
       "4        1200.0\n",
       "          ...  \n",
       "13315    3453.0\n",
       "13316    3600.0\n",
       "13317    1141.0\n",
       "13318    4689.0\n",
       "13319     550.0\n",
       "Name: total_sqft, Length: 13320, dtype: float64"
      ]
     },
     "execution_count": 179,
     "metadata": {},
     "output_type": "execute_result"
    }
   ],
   "source": [
    "df[\"total_sqft\"]"
   ]
  },
  {
   "cell_type": "code",
   "execution_count": 180,
   "id": "cc04367f",
   "metadata": {},
   "outputs": [
    {
     "data": {
      "text/html": [
       "<div>\n",
       "<style scoped>\n",
       "    .dataframe tbody tr th:only-of-type {\n",
       "        vertical-align: middle;\n",
       "    }\n",
       "\n",
       "    .dataframe tbody tr th {\n",
       "        vertical-align: top;\n",
       "    }\n",
       "\n",
       "    .dataframe thead th {\n",
       "        text-align: right;\n",
       "    }\n",
       "</style>\n",
       "<table border=\"1\" class=\"dataframe\">\n",
       "  <thead>\n",
       "    <tr style=\"text-align: right;\">\n",
       "      <th></th>\n",
       "      <th>location</th>\n",
       "      <th>size</th>\n",
       "      <th>total_sqft</th>\n",
       "      <th>bath</th>\n",
       "      <th>price</th>\n",
       "      <th>bhk</th>\n",
       "      <th>price_per_sqft</th>\n",
       "    </tr>\n",
       "  </thead>\n",
       "  <tbody>\n",
       "    <tr>\n",
       "      <th>0</th>\n",
       "      <td>Electronic City Phase II</td>\n",
       "      <td>2 BHK</td>\n",
       "      <td>1056.0</td>\n",
       "      <td>2.0</td>\n",
       "      <td>39.07</td>\n",
       "      <td>2</td>\n",
       "      <td>3699.810606</td>\n",
       "    </tr>\n",
       "    <tr>\n",
       "      <th>1</th>\n",
       "      <td>Chikka Tirupathi</td>\n",
       "      <td>4 Bedroom</td>\n",
       "      <td>2600.0</td>\n",
       "      <td>5.0</td>\n",
       "      <td>120.00</td>\n",
       "      <td>4</td>\n",
       "      <td>4615.384615</td>\n",
       "    </tr>\n",
       "    <tr>\n",
       "      <th>2</th>\n",
       "      <td>Uttarahalli</td>\n",
       "      <td>3 BHK</td>\n",
       "      <td>1440.0</td>\n",
       "      <td>2.0</td>\n",
       "      <td>62.00</td>\n",
       "      <td>3</td>\n",
       "      <td>4305.555556</td>\n",
       "    </tr>\n",
       "    <tr>\n",
       "      <th>3</th>\n",
       "      <td>Lingadheeranahalli</td>\n",
       "      <td>3 BHK</td>\n",
       "      <td>1521.0</td>\n",
       "      <td>3.0</td>\n",
       "      <td>95.00</td>\n",
       "      <td>3</td>\n",
       "      <td>6245.890861</td>\n",
       "    </tr>\n",
       "    <tr>\n",
       "      <th>4</th>\n",
       "      <td>Kothanur</td>\n",
       "      <td>2 BHK</td>\n",
       "      <td>1200.0</td>\n",
       "      <td>2.0</td>\n",
       "      <td>51.00</td>\n",
       "      <td>2</td>\n",
       "      <td>4250.000000</td>\n",
       "    </tr>\n",
       "  </tbody>\n",
       "</table>\n",
       "</div>"
      ],
      "text/plain": [
       "                   location       size  total_sqft  bath   price  bhk  \\\n",
       "0  Electronic City Phase II      2 BHK      1056.0   2.0   39.07    2   \n",
       "1          Chikka Tirupathi  4 Bedroom      2600.0   5.0  120.00    4   \n",
       "2               Uttarahalli      3 BHK      1440.0   2.0   62.00    3   \n",
       "3        Lingadheeranahalli      3 BHK      1521.0   3.0   95.00    3   \n",
       "4                  Kothanur      2 BHK      1200.0   2.0   51.00    2   \n",
       "\n",
       "   price_per_sqft  \n",
       "0     3699.810606  \n",
       "1     4615.384615  \n",
       "2     4305.555556  \n",
       "3     6245.890861  \n",
       "4     4250.000000  "
      ]
     },
     "execution_count": 180,
     "metadata": {},
     "output_type": "execute_result"
    }
   ],
   "source": [
    "df[\"price_per_sqft\"] = df[\"price\"]*100000/df[\"total_sqft\"]\n",
    "df.head()"
   ]
  },
  {
   "cell_type": "code",
   "execution_count": 181,
   "id": "f65526f3",
   "metadata": {},
   "outputs": [
    {
     "data": {
      "text/plain": [
       "Whitefield                            541\n",
       "Sarjapur  Road                        399\n",
       "Electronic City                       304\n",
       "Kanakpura Road                        273\n",
       "Thanisandra                           237\n",
       "                                     ... \n",
       "1Channasandra                           1\n",
       "Hosahalli                               1\n",
       "Vijayabank bank layout                  1\n",
       "near Ramanashree California resort      1\n",
       "Abshot Layout                           1\n",
       "Name: location, Length: 1295, dtype: int64"
      ]
     },
     "execution_count": 181,
     "metadata": {},
     "output_type": "execute_result"
    }
   ],
   "source": [
    "df[\"location\"]=df[\"location\"].apply(lambda x:x.strip())\n",
    "location_count = df[\"location\"].value_counts()\n",
    "location_count"
   ]
  },
  {
   "cell_type": "code",
   "execution_count": 182,
   "id": "37d44ac5",
   "metadata": {},
   "outputs": [
    {
     "data": {
      "text/plain": [
       "BTM 1st Stage                         10\n",
       "Nagadevanahalli                       10\n",
       "Basapura                              10\n",
       "Sector 1 HSR Layout                   10\n",
       "Dairy Circle                          10\n",
       "                                      ..\n",
       "1Channasandra                          1\n",
       "Hosahalli                              1\n",
       "Vijayabank bank layout                 1\n",
       "near Ramanashree California resort     1\n",
       "Abshot Layout                          1\n",
       "Name: location, Length: 1054, dtype: int64"
      ]
     },
     "execution_count": 182,
     "metadata": {},
     "output_type": "execute_result"
    }
   ],
   "source": [
    "location_count_lessthan_10 = location_count[location_count<=10]\n",
    "location_count_lessthan_10"
   ]
  },
  {
   "cell_type": "code",
   "execution_count": 183,
   "id": "ed5fab80",
   "metadata": {},
   "outputs": [
    {
     "data": {
      "text/plain": [
       "others                2886\n",
       "Whitefield             541\n",
       "Sarjapur  Road         399\n",
       "Electronic City        304\n",
       "Kanakpura Road         273\n",
       "                      ... \n",
       "Nehru Nagar             11\n",
       "Banjara Layout          11\n",
       "LB Shastri Nagar        11\n",
       "Pattandur Agrahara      11\n",
       "Narayanapura            11\n",
       "Name: location, Length: 242, dtype: int64"
      ]
     },
     "execution_count": 183,
     "metadata": {},
     "output_type": "execute_result"
    }
   ],
   "source": [
    "df[\"location\"] =df[\"location\"].apply(lambda x:'others' if x in location_count_lessthan_10 else x)\n",
    "df[\"location\"].value_counts()"
   ]
  },
  {
   "cell_type": "code",
   "execution_count": 184,
   "id": "54d7d7c1",
   "metadata": {},
   "outputs": [
    {
     "data": {
      "text/html": [
       "<div>\n",
       "<style scoped>\n",
       "    .dataframe tbody tr th:only-of-type {\n",
       "        vertical-align: middle;\n",
       "    }\n",
       "\n",
       "    .dataframe tbody tr th {\n",
       "        vertical-align: top;\n",
       "    }\n",
       "\n",
       "    .dataframe thead th {\n",
       "        text-align: right;\n",
       "    }\n",
       "</style>\n",
       "<table border=\"1\" class=\"dataframe\">\n",
       "  <thead>\n",
       "    <tr style=\"text-align: right;\">\n",
       "      <th></th>\n",
       "      <th>total_sqft</th>\n",
       "      <th>bath</th>\n",
       "      <th>price</th>\n",
       "      <th>bhk</th>\n",
       "      <th>price_per_sqft</th>\n",
       "    </tr>\n",
       "  </thead>\n",
       "  <tbody>\n",
       "    <tr>\n",
       "      <th>count</th>\n",
       "      <td>13274.000000</td>\n",
       "      <td>13320.000000</td>\n",
       "      <td>13320.000000</td>\n",
       "      <td>13320.000000</td>\n",
       "      <td>1.327400e+04</td>\n",
       "    </tr>\n",
       "    <tr>\n",
       "      <th>mean</th>\n",
       "      <td>1559.626694</td>\n",
       "      <td>2.688814</td>\n",
       "      <td>112.565627</td>\n",
       "      <td>2.802778</td>\n",
       "      <td>7.907501e+03</td>\n",
       "    </tr>\n",
       "    <tr>\n",
       "      <th>std</th>\n",
       "      <td>1238.405258</td>\n",
       "      <td>1.338754</td>\n",
       "      <td>148.971674</td>\n",
       "      <td>1.294496</td>\n",
       "      <td>1.064296e+05</td>\n",
       "    </tr>\n",
       "    <tr>\n",
       "      <th>min</th>\n",
       "      <td>1.000000</td>\n",
       "      <td>1.000000</td>\n",
       "      <td>8.000000</td>\n",
       "      <td>1.000000</td>\n",
       "      <td>2.678298e+02</td>\n",
       "    </tr>\n",
       "    <tr>\n",
       "      <th>25%</th>\n",
       "      <td>1100.000000</td>\n",
       "      <td>2.000000</td>\n",
       "      <td>50.000000</td>\n",
       "      <td>2.000000</td>\n",
       "      <td>4.266865e+03</td>\n",
       "    </tr>\n",
       "    <tr>\n",
       "      <th>50%</th>\n",
       "      <td>1276.000000</td>\n",
       "      <td>2.000000</td>\n",
       "      <td>72.000000</td>\n",
       "      <td>3.000000</td>\n",
       "      <td>5.434306e+03</td>\n",
       "    </tr>\n",
       "    <tr>\n",
       "      <th>75%</th>\n",
       "      <td>1680.000000</td>\n",
       "      <td>3.000000</td>\n",
       "      <td>120.000000</td>\n",
       "      <td>3.000000</td>\n",
       "      <td>7.311746e+03</td>\n",
       "    </tr>\n",
       "    <tr>\n",
       "      <th>max</th>\n",
       "      <td>52272.000000</td>\n",
       "      <td>40.000000</td>\n",
       "      <td>3600.000000</td>\n",
       "      <td>43.000000</td>\n",
       "      <td>1.200000e+07</td>\n",
       "    </tr>\n",
       "  </tbody>\n",
       "</table>\n",
       "</div>"
      ],
      "text/plain": [
       "         total_sqft          bath         price           bhk  price_per_sqft\n",
       "count  13274.000000  13320.000000  13320.000000  13320.000000    1.327400e+04\n",
       "mean    1559.626694      2.688814    112.565627      2.802778    7.907501e+03\n",
       "std     1238.405258      1.338754    148.971674      1.294496    1.064296e+05\n",
       "min        1.000000      1.000000      8.000000      1.000000    2.678298e+02\n",
       "25%     1100.000000      2.000000     50.000000      2.000000    4.266865e+03\n",
       "50%     1276.000000      2.000000     72.000000      3.000000    5.434306e+03\n",
       "75%     1680.000000      3.000000    120.000000      3.000000    7.311746e+03\n",
       "max    52272.000000     40.000000   3600.000000     43.000000    1.200000e+07"
      ]
     },
     "execution_count": 184,
     "metadata": {},
     "output_type": "execute_result"
    }
   ],
   "source": [
    "df.describe()"
   ]
  },
  {
   "cell_type": "code",
   "execution_count": 185,
   "id": "74e94074",
   "metadata": {},
   "outputs": [
    {
     "data": {
      "text/plain": [
       "count    13274.000000\n",
       "mean       575.074878\n",
       "std        388.205175\n",
       "min          0.250000\n",
       "25%        473.333333\n",
       "50%        552.500000\n",
       "75%        625.000000\n",
       "max      26136.000000\n",
       "dtype: float64"
      ]
     },
     "execution_count": 185,
     "metadata": {},
     "output_type": "execute_result"
    }
   ],
   "source": [
    "(df[\"total_sqft\"]/df[\"bhk\"]).describe()"
   ]
  },
  {
   "cell_type": "code",
   "execution_count": 195,
   "id": "c0f8644b",
   "metadata": {},
   "outputs": [
    {
     "data": {
      "text/html": [
       "<div>\n",
       "<style scoped>\n",
       "    .dataframe tbody tr th:only-of-type {\n",
       "        vertical-align: middle;\n",
       "    }\n",
       "\n",
       "    .dataframe tbody tr th {\n",
       "        vertical-align: top;\n",
       "    }\n",
       "\n",
       "    .dataframe thead th {\n",
       "        text-align: right;\n",
       "    }\n",
       "</style>\n",
       "<table border=\"1\" class=\"dataframe\">\n",
       "  <thead>\n",
       "    <tr style=\"text-align: right;\">\n",
       "      <th></th>\n",
       "      <th>total_sqft</th>\n",
       "      <th>bath</th>\n",
       "      <th>price</th>\n",
       "      <th>bhk</th>\n",
       "      <th>price_per_sqft</th>\n",
       "    </tr>\n",
       "  </thead>\n",
       "  <tbody>\n",
       "    <tr>\n",
       "      <th>count</th>\n",
       "      <td>10301.000000</td>\n",
       "      <td>10301.000000</td>\n",
       "      <td>10301.000000</td>\n",
       "      <td>10301.000000</td>\n",
       "      <td>10301.000000</td>\n",
       "    </tr>\n",
       "    <tr>\n",
       "      <th>mean</th>\n",
       "      <td>1508.440608</td>\n",
       "      <td>2.471702</td>\n",
       "      <td>91.286372</td>\n",
       "      <td>2.574896</td>\n",
       "      <td>5659.062876</td>\n",
       "    </tr>\n",
       "    <tr>\n",
       "      <th>std</th>\n",
       "      <td>880.694214</td>\n",
       "      <td>0.979449</td>\n",
       "      <td>86.342786</td>\n",
       "      <td>0.897649</td>\n",
       "      <td>2265.774749</td>\n",
       "    </tr>\n",
       "    <tr>\n",
       "      <th>min</th>\n",
       "      <td>300.000000</td>\n",
       "      <td>1.000000</td>\n",
       "      <td>10.000000</td>\n",
       "      <td>1.000000</td>\n",
       "      <td>1250.000000</td>\n",
       "    </tr>\n",
       "    <tr>\n",
       "      <th>25%</th>\n",
       "      <td>1110.000000</td>\n",
       "      <td>2.000000</td>\n",
       "      <td>49.000000</td>\n",
       "      <td>2.000000</td>\n",
       "      <td>4244.897959</td>\n",
       "    </tr>\n",
       "    <tr>\n",
       "      <th>50%</th>\n",
       "      <td>1286.000000</td>\n",
       "      <td>2.000000</td>\n",
       "      <td>67.000000</td>\n",
       "      <td>2.000000</td>\n",
       "      <td>5175.600739</td>\n",
       "    </tr>\n",
       "    <tr>\n",
       "      <th>75%</th>\n",
       "      <td>1650.000000</td>\n",
       "      <td>3.000000</td>\n",
       "      <td>100.000000</td>\n",
       "      <td>3.000000</td>\n",
       "      <td>6428.571429</td>\n",
       "    </tr>\n",
       "    <tr>\n",
       "      <th>max</th>\n",
       "      <td>30400.000000</td>\n",
       "      <td>16.000000</td>\n",
       "      <td>2200.000000</td>\n",
       "      <td>16.000000</td>\n",
       "      <td>24509.803922</td>\n",
       "    </tr>\n",
       "  </tbody>\n",
       "</table>\n",
       "</div>"
      ],
      "text/plain": [
       "         total_sqft          bath         price           bhk  price_per_sqft\n",
       "count  10301.000000  10301.000000  10301.000000  10301.000000    10301.000000\n",
       "mean    1508.440608      2.471702     91.286372      2.574896     5659.062876\n",
       "std      880.694214      0.979449     86.342786      0.897649     2265.774749\n",
       "min      300.000000      1.000000     10.000000      1.000000     1250.000000\n",
       "25%     1110.000000      2.000000     49.000000      2.000000     4244.897959\n",
       "50%     1286.000000      2.000000     67.000000      2.000000     5175.600739\n",
       "75%     1650.000000      3.000000    100.000000      3.000000     6428.571429\n",
       "max    30400.000000     16.000000   2200.000000     16.000000    24509.803922"
      ]
     },
     "execution_count": 195,
     "metadata": {},
     "output_type": "execute_result"
    }
   ],
   "source": [
    "new_df= df[((df[\"total_sqft\"]/df[\"bhk\"])>=300)]\n",
    "new_df.describe()"
   ]
  },
  {
   "cell_type": "code",
   "execution_count": 196,
   "id": "97a6320a",
   "metadata": {},
   "outputs": [
    {
     "data": {
      "text/plain": [
       "(10301, 7)"
      ]
     },
     "execution_count": 196,
     "metadata": {},
     "output_type": "execute_result"
    }
   ],
   "source": [
    "new_df.shape"
   ]
  },
  {
   "cell_type": "code",
   "execution_count": 197,
   "id": "045db8fe",
   "metadata": {},
   "outputs": [
    {
     "data": {
      "text/html": [
       "<div>\n",
       "<style scoped>\n",
       "    .dataframe tbody tr th:only-of-type {\n",
       "        vertical-align: middle;\n",
       "    }\n",
       "\n",
       "    .dataframe tbody tr th {\n",
       "        vertical-align: top;\n",
       "    }\n",
       "\n",
       "    .dataframe thead th {\n",
       "        text-align: right;\n",
       "    }\n",
       "</style>\n",
       "<table border=\"1\" class=\"dataframe\">\n",
       "  <thead>\n",
       "    <tr style=\"text-align: right;\">\n",
       "      <th></th>\n",
       "      <th>total_sqft</th>\n",
       "      <th>bath</th>\n",
       "      <th>price</th>\n",
       "      <th>bhk</th>\n",
       "      <th>price_per_sqft</th>\n",
       "    </tr>\n",
       "  </thead>\n",
       "  <tbody>\n",
       "    <tr>\n",
       "      <th>count</th>\n",
       "      <td>7011.000000</td>\n",
       "      <td>7011.000000</td>\n",
       "      <td>7011.000000</td>\n",
       "      <td>7011.000000</td>\n",
       "      <td>7011.000000</td>\n",
       "    </tr>\n",
       "    <tr>\n",
       "      <th>mean</th>\n",
       "      <td>1467.307519</td>\n",
       "      <td>2.420625</td>\n",
       "      <td>83.375893</td>\n",
       "      <td>2.533875</td>\n",
       "      <td>5415.916539</td>\n",
       "    </tr>\n",
       "    <tr>\n",
       "      <th>std</th>\n",
       "      <td>876.986816</td>\n",
       "      <td>0.912160</td>\n",
       "      <td>71.338631</td>\n",
       "      <td>0.854351</td>\n",
       "      <td>1797.535814</td>\n",
       "    </tr>\n",
       "    <tr>\n",
       "      <th>min</th>\n",
       "      <td>300.000000</td>\n",
       "      <td>1.000000</td>\n",
       "      <td>10.000000</td>\n",
       "      <td>1.000000</td>\n",
       "      <td>2439.024390</td>\n",
       "    </tr>\n",
       "    <tr>\n",
       "      <th>25%</th>\n",
       "      <td>1101.000000</td>\n",
       "      <td>2.000000</td>\n",
       "      <td>50.000000</td>\n",
       "      <td>2.000000</td>\n",
       "      <td>4334.771897</td>\n",
       "    </tr>\n",
       "    <tr>\n",
       "      <th>50%</th>\n",
       "      <td>1270.000000</td>\n",
       "      <td>2.000000</td>\n",
       "      <td>65.310000</td>\n",
       "      <td>2.000000</td>\n",
       "      <td>5109.489051</td>\n",
       "    </tr>\n",
       "    <tr>\n",
       "      <th>75%</th>\n",
       "      <td>1600.000000</td>\n",
       "      <td>3.000000</td>\n",
       "      <td>91.465000</td>\n",
       "      <td>3.000000</td>\n",
       "      <td>6077.889719</td>\n",
       "    </tr>\n",
       "    <tr>\n",
       "      <th>max</th>\n",
       "      <td>30400.000000</td>\n",
       "      <td>16.000000</td>\n",
       "      <td>2100.000000</td>\n",
       "      <td>16.000000</td>\n",
       "      <td>24166.666667</td>\n",
       "    </tr>\n",
       "  </tbody>\n",
       "</table>\n",
       "</div>"
      ],
      "text/plain": [
       "         total_sqft         bath        price          bhk  price_per_sqft\n",
       "count   7011.000000  7011.000000  7011.000000  7011.000000     7011.000000\n",
       "mean    1467.307519     2.420625    83.375893     2.533875     5415.916539\n",
       "std      876.986816     0.912160    71.338631     0.854351     1797.535814\n",
       "min      300.000000     1.000000    10.000000     1.000000     2439.024390\n",
       "25%     1101.000000     2.000000    50.000000     2.000000     4334.771897\n",
       "50%     1270.000000     2.000000    65.310000     2.000000     5109.489051\n",
       "75%     1600.000000     3.000000    91.465000     3.000000     6077.889719\n",
       "max    30400.000000    16.000000  2100.000000    16.000000    24166.666667"
      ]
     },
     "execution_count": 197,
     "metadata": {},
     "output_type": "execute_result"
    }
   ],
   "source": [
    "def remove_outliers_sqft(df):\n",
    "    df_output = pd.DataFrame()\n",
    "    for key,subdf in df.groupby( 'location'):\n",
    "        m = np.mean(subdf.price_per_sqft)\n",
    "        st = np.std(subdf.price_per_sqft)\n",
    "        gen_df  = subdf[(subdf.price_per_sqft > (m-st)) & (subdf.price_per_sqft <= (m+st))]\n",
    "        df_output = pd.concat([df_output,gen_df],ignore_index =True)\n",
    "    return df_output\n",
    "df = remove_outliers_sqft(df)\n",
    "df.describe()"
   ]
  },
  {
   "cell_type": "code",
   "execution_count": 201,
   "id": "da3d156f",
   "metadata": {},
   "outputs": [],
   "source": [
    "def bhk_outlier_remover(df):\n",
    "    exclude_indices = np.array([])\n",
    "    for location, location_df in df.groupby( 'location'):\n",
    "        bhk_stats = {}\n",
    "        for bhk, bhk_df in location_df.groupby('bhk'):\n",
    "            bhk_stats[bhk] = {\n",
    "                 'mean': np.mean(bhk_df.price_per_sqft),\n",
    "                 'std': np.std(bhk_df.price_per_sqft),\n",
    "                 'count': bhk_df.shape[0]} \n",
    "        for bhk, bhk_df in location_df.groupby('bhk'):\n",
    "                stats= bhk_stats.get(bhk-1)\n",
    "                if stats and stats['count']>5:\n",
    "                        exclude_indices= np.append(exclude_indices,bhk_df[bhk_df.price_per_sqft<(stats['mean'])].index.values)\n",
    "    return df.drop(exclude_indices,axis='index')\n"
   ]
  },
  {
   "cell_type": "code",
   "execution_count": 202,
   "id": "88469a53",
   "metadata": {},
   "outputs": [],
   "source": [
    "new_df = bhk_outlier_remover(new_df)"
   ]
  },
  {
   "cell_type": "code",
   "execution_count": 203,
   "id": "8e89c4c7",
   "metadata": {},
   "outputs": [
    {
     "data": {
      "text/html": [
       "<div>\n",
       "<style scoped>\n",
       "    .dataframe tbody tr th:only-of-type {\n",
       "        vertical-align: middle;\n",
       "    }\n",
       "\n",
       "    .dataframe tbody tr th {\n",
       "        vertical-align: top;\n",
       "    }\n",
       "\n",
       "    .dataframe thead th {\n",
       "        text-align: right;\n",
       "    }\n",
       "</style>\n",
       "<table border=\"1\" class=\"dataframe\">\n",
       "  <thead>\n",
       "    <tr style=\"text-align: right;\">\n",
       "      <th></th>\n",
       "      <th>location</th>\n",
       "      <th>size</th>\n",
       "      <th>total_sqft</th>\n",
       "      <th>bath</th>\n",
       "      <th>price</th>\n",
       "      <th>bhk</th>\n",
       "      <th>price_per_sqft</th>\n",
       "    </tr>\n",
       "  </thead>\n",
       "  <tbody>\n",
       "    <tr>\n",
       "      <th>0</th>\n",
       "      <td>1st Block Jayanagar</td>\n",
       "      <td>4 BHK</td>\n",
       "      <td>2850.0</td>\n",
       "      <td>4.0</td>\n",
       "      <td>428.0</td>\n",
       "      <td>4</td>\n",
       "      <td>15017.543860</td>\n",
       "    </tr>\n",
       "    <tr>\n",
       "      <th>1</th>\n",
       "      <td>1st Block Jayanagar</td>\n",
       "      <td>3 BHK</td>\n",
       "      <td>1630.0</td>\n",
       "      <td>3.0</td>\n",
       "      <td>194.0</td>\n",
       "      <td>3</td>\n",
       "      <td>11901.840491</td>\n",
       "    </tr>\n",
       "    <tr>\n",
       "      <th>2</th>\n",
       "      <td>1st Block Jayanagar</td>\n",
       "      <td>3 BHK</td>\n",
       "      <td>1875.0</td>\n",
       "      <td>2.0</td>\n",
       "      <td>235.0</td>\n",
       "      <td>3</td>\n",
       "      <td>12533.333333</td>\n",
       "    </tr>\n",
       "    <tr>\n",
       "      <th>3</th>\n",
       "      <td>1st Block Jayanagar</td>\n",
       "      <td>3 BHK</td>\n",
       "      <td>1200.0</td>\n",
       "      <td>2.0</td>\n",
       "      <td>130.0</td>\n",
       "      <td>3</td>\n",
       "      <td>10833.333333</td>\n",
       "    </tr>\n",
       "    <tr>\n",
       "      <th>4</th>\n",
       "      <td>1st Block Jayanagar</td>\n",
       "      <td>2 BHK</td>\n",
       "      <td>1235.0</td>\n",
       "      <td>2.0</td>\n",
       "      <td>148.0</td>\n",
       "      <td>2</td>\n",
       "      <td>11983.805668</td>\n",
       "    </tr>\n",
       "    <tr>\n",
       "      <th>...</th>\n",
       "      <td>...</td>\n",
       "      <td>...</td>\n",
       "      <td>...</td>\n",
       "      <td>...</td>\n",
       "      <td>...</td>\n",
       "      <td>...</td>\n",
       "      <td>...</td>\n",
       "    </tr>\n",
       "    <tr>\n",
       "      <th>10292</th>\n",
       "      <td>others</td>\n",
       "      <td>2 BHK</td>\n",
       "      <td>1200.0</td>\n",
       "      <td>2.0</td>\n",
       "      <td>70.0</td>\n",
       "      <td>2</td>\n",
       "      <td>5833.333333</td>\n",
       "    </tr>\n",
       "    <tr>\n",
       "      <th>10293</th>\n",
       "      <td>others</td>\n",
       "      <td>1 BHK</td>\n",
       "      <td>1800.0</td>\n",
       "      <td>1.0</td>\n",
       "      <td>200.0</td>\n",
       "      <td>1</td>\n",
       "      <td>11111.111111</td>\n",
       "    </tr>\n",
       "    <tr>\n",
       "      <th>10296</th>\n",
       "      <td>others</td>\n",
       "      <td>2 BHK</td>\n",
       "      <td>1353.0</td>\n",
       "      <td>2.0</td>\n",
       "      <td>110.0</td>\n",
       "      <td>2</td>\n",
       "      <td>8130.081301</td>\n",
       "    </tr>\n",
       "    <tr>\n",
       "      <th>10297</th>\n",
       "      <td>others</td>\n",
       "      <td>1 Bedroom</td>\n",
       "      <td>812.0</td>\n",
       "      <td>1.0</td>\n",
       "      <td>26.0</td>\n",
       "      <td>1</td>\n",
       "      <td>3201.970443</td>\n",
       "    </tr>\n",
       "    <tr>\n",
       "      <th>10300</th>\n",
       "      <td>others</td>\n",
       "      <td>4 BHK</td>\n",
       "      <td>3600.0</td>\n",
       "      <td>5.0</td>\n",
       "      <td>400.0</td>\n",
       "      <td>4</td>\n",
       "      <td>11111.111111</td>\n",
       "    </tr>\n",
       "  </tbody>\n",
       "</table>\n",
       "<p>7361 rows × 7 columns</p>\n",
       "</div>"
      ],
      "text/plain": [
       "                  location       size  total_sqft  bath  price  bhk  \\\n",
       "0      1st Block Jayanagar      4 BHK      2850.0   4.0  428.0    4   \n",
       "1      1st Block Jayanagar      3 BHK      1630.0   3.0  194.0    3   \n",
       "2      1st Block Jayanagar      3 BHK      1875.0   2.0  235.0    3   \n",
       "3      1st Block Jayanagar      3 BHK      1200.0   2.0  130.0    3   \n",
       "4      1st Block Jayanagar      2 BHK      1235.0   2.0  148.0    2   \n",
       "...                    ...        ...         ...   ...    ...  ...   \n",
       "10292               others      2 BHK      1200.0   2.0   70.0    2   \n",
       "10293               others      1 BHK      1800.0   1.0  200.0    1   \n",
       "10296               others      2 BHK      1353.0   2.0  110.0    2   \n",
       "10297               others  1 Bedroom       812.0   1.0   26.0    1   \n",
       "10300               others      4 BHK      3600.0   5.0  400.0    4   \n",
       "\n",
       "       price_per_sqft  \n",
       "0        15017.543860  \n",
       "1        11901.840491  \n",
       "2        12533.333333  \n",
       "3        10833.333333  \n",
       "4        11983.805668  \n",
       "...               ...  \n",
       "10292     5833.333333  \n",
       "10293    11111.111111  \n",
       "10296     8130.081301  \n",
       "10297     3201.970443  \n",
       "10300    11111.111111  \n",
       "\n",
       "[7361 rows x 7 columns]"
      ]
     },
     "execution_count": 203,
     "metadata": {},
     "output_type": "execute_result"
    }
   ],
   "source": [
    "new_df"
   ]
  },
  {
   "cell_type": "code",
   "execution_count": 204,
   "id": "ea89a2f1",
   "metadata": {},
   "outputs": [
    {
     "data": {
      "text/plain": [
       "(7361, 7)"
      ]
     },
     "execution_count": 204,
     "metadata": {},
     "output_type": "execute_result"
    }
   ],
   "source": [
    "new_df.shape"
   ]
  },
  {
   "cell_type": "code",
   "execution_count": 207,
   "id": "f793d397",
   "metadata": {},
   "outputs": [],
   "source": [
    "new_df.drop(columns=['size','price_per_sqft'],inplace =True)"
   ]
  },
  {
   "cell_type": "code",
   "execution_count": 209,
   "id": "1cef6abe",
   "metadata": {},
   "outputs": [
    {
     "data": {
      "text/html": [
       "<div>\n",
       "<style scoped>\n",
       "    .dataframe tbody tr th:only-of-type {\n",
       "        vertical-align: middle;\n",
       "    }\n",
       "\n",
       "    .dataframe tbody tr th {\n",
       "        vertical-align: top;\n",
       "    }\n",
       "\n",
       "    .dataframe thead th {\n",
       "        text-align: right;\n",
       "    }\n",
       "</style>\n",
       "<table border=\"1\" class=\"dataframe\">\n",
       "  <thead>\n",
       "    <tr style=\"text-align: right;\">\n",
       "      <th></th>\n",
       "      <th>location</th>\n",
       "      <th>total_sqft</th>\n",
       "      <th>bath</th>\n",
       "      <th>price</th>\n",
       "      <th>bhk</th>\n",
       "    </tr>\n",
       "  </thead>\n",
       "  <tbody>\n",
       "    <tr>\n",
       "      <th>0</th>\n",
       "      <td>1st Block Jayanagar</td>\n",
       "      <td>2850.0</td>\n",
       "      <td>4.0</td>\n",
       "      <td>428.0</td>\n",
       "      <td>4</td>\n",
       "    </tr>\n",
       "    <tr>\n",
       "      <th>1</th>\n",
       "      <td>1st Block Jayanagar</td>\n",
       "      <td>1630.0</td>\n",
       "      <td>3.0</td>\n",
       "      <td>194.0</td>\n",
       "      <td>3</td>\n",
       "    </tr>\n",
       "    <tr>\n",
       "      <th>2</th>\n",
       "      <td>1st Block Jayanagar</td>\n",
       "      <td>1875.0</td>\n",
       "      <td>2.0</td>\n",
       "      <td>235.0</td>\n",
       "      <td>3</td>\n",
       "    </tr>\n",
       "    <tr>\n",
       "      <th>3</th>\n",
       "      <td>1st Block Jayanagar</td>\n",
       "      <td>1200.0</td>\n",
       "      <td>2.0</td>\n",
       "      <td>130.0</td>\n",
       "      <td>3</td>\n",
       "    </tr>\n",
       "    <tr>\n",
       "      <th>4</th>\n",
       "      <td>1st Block Jayanagar</td>\n",
       "      <td>1235.0</td>\n",
       "      <td>2.0</td>\n",
       "      <td>148.0</td>\n",
       "      <td>2</td>\n",
       "    </tr>\n",
       "  </tbody>\n",
       "</table>\n",
       "</div>"
      ],
      "text/plain": [
       "              location  total_sqft  bath  price  bhk\n",
       "0  1st Block Jayanagar      2850.0   4.0  428.0    4\n",
       "1  1st Block Jayanagar      1630.0   3.0  194.0    3\n",
       "2  1st Block Jayanagar      1875.0   2.0  235.0    3\n",
       "3  1st Block Jayanagar      1200.0   2.0  130.0    3\n",
       "4  1st Block Jayanagar      1235.0   2.0  148.0    2"
      ]
     },
     "execution_count": 209,
     "metadata": {},
     "output_type": "execute_result"
    }
   ],
   "source": [
    "new_df.head()"
   ]
  },
  {
   "cell_type": "code",
   "execution_count": 210,
   "id": "83643010",
   "metadata": {},
   "outputs": [],
   "source": [
    "new_df.to_csv(\"Cleaned_new_df.csv\")"
   ]
  },
  {
   "cell_type": "code",
   "execution_count": 211,
   "id": "b9673942",
   "metadata": {},
   "outputs": [],
   "source": [
    "X= new_df.drop(columns=[\"price\"])"
   ]
  },
  {
   "cell_type": "code",
   "execution_count": 212,
   "id": "ae16f901",
   "metadata": {},
   "outputs": [],
   "source": [
    "y = new_df[\"price\"]"
   ]
  },
  {
   "cell_type": "code",
   "execution_count": 226,
   "id": "cedaa40b",
   "metadata": {},
   "outputs": [],
   "source": [
    "from sklearn.model_selection import train_test_split\n",
    "from sklearn.linear_model import LinearRegression, Lasso,Ridge\n",
    "from sklearn.preprocessing import OneHotEncoder, StandardScaler\n",
    "from sklearn.compose import make_column_transformer\n",
    "from sklearn.pipeline import make_pipeline\n",
    "from sklearn.metrics import r2_score"
   ]
  },
  {
   "cell_type": "code",
   "execution_count": 227,
   "id": "2b1bcd7b",
   "metadata": {},
   "outputs": [],
   "source": [
    "X_train,X_test,y_train,y_test = train_test_split(X,y,test_size =0.2,random_state=0)"
   ]
  },
  {
   "cell_type": "code",
   "execution_count": 215,
   "id": "33f473ee",
   "metadata": {},
   "outputs": [
    {
     "name": "stdout",
     "output_type": "stream",
     "text": [
      "(5888, 4)\n",
      "(1473, 4)\n"
     ]
    }
   ],
   "source": [
    "print(X_train.shape)\n",
    "print(X_test.shape)"
   ]
  },
  {
   "cell_type": "markdown",
   "id": "83e070e1",
   "metadata": {},
   "source": [
    "Applying Linear Regression"
   ]
  },
  {
   "cell_type": "code",
   "execution_count": 216,
   "id": "ad1c2475",
   "metadata": {},
   "outputs": [],
   "source": [
    "column_trans = make_column_transformer((OneHotEncoder(sparse =False),['location']),remainder ='passthrough')"
   ]
  },
  {
   "cell_type": "code",
   "execution_count": 217,
   "id": "f58eb372",
   "metadata": {},
   "outputs": [],
   "source": [
    "scaler =StandardScaler()"
   ]
  },
  {
   "cell_type": "code",
   "execution_count": 218,
   "id": "22284897",
   "metadata": {},
   "outputs": [],
   "source": [
    "lr = LinearRegression(normalize =True)"
   ]
  },
  {
   "cell_type": "code",
   "execution_count": 219,
   "id": "b2ef3092",
   "metadata": {},
   "outputs": [],
   "source": [
    "pipe = make_pipeline(column_trans,scaler,lr)"
   ]
  },
  {
   "cell_type": "code",
   "execution_count": 220,
   "id": "a3f60f33",
   "metadata": {},
   "outputs": [
    {
     "name": "stderr",
     "output_type": "stream",
     "text": [
      "C:\\Users\\CSC\\anaconda3\\lib\\site-packages\\sklearn\\linear_model\\_base.py:141: FutureWarning: 'normalize' was deprecated in version 1.0 and will be removed in 1.2.\n",
      "If you wish to scale the data, use Pipeline with a StandardScaler in a preprocessing stage. To reproduce the previous behavior:\n",
      "\n",
      "from sklearn.pipeline import make_pipeline\n",
      "\n",
      "model = make_pipeline(StandardScaler(with_mean=False), LinearRegression())\n",
      "\n",
      "If you wish to pass a sample_weight parameter, you need to pass it as a fit parameter to each step of the pipeline as follows:\n",
      "\n",
      "kwargs = {s[0] + '__sample_weight': sample_weight for s in model.steps}\n",
      "model.fit(X, y, **kwargs)\n",
      "\n",
      "\n",
      "  warnings.warn(\n"
     ]
    },
    {
     "data": {
      "text/plain": [
       "Pipeline(steps=[('columntransformer',\n",
       "                 ColumnTransformer(remainder='passthrough',\n",
       "                                   transformers=[('onehotencoder',\n",
       "                                                  OneHotEncoder(sparse=False),\n",
       "                                                  ['location'])])),\n",
       "                ('standardscaler', StandardScaler()),\n",
       "                ('linearregression', LinearRegression(normalize=True))])"
      ]
     },
     "execution_count": 220,
     "metadata": {},
     "output_type": "execute_result"
    }
   ],
   "source": [
    "pipe.fit(X_train,y_train)"
   ]
  },
  {
   "cell_type": "code",
   "execution_count": 221,
   "id": "e33c2c91",
   "metadata": {},
   "outputs": [],
   "source": [
    "y_predict_lr = pipe.predict(X_test)"
   ]
  },
  {
   "cell_type": "code",
   "execution_count": 224,
   "id": "e3108a3f",
   "metadata": {},
   "outputs": [
    {
     "data": {
      "text/plain": [
       "0.8233889072444608"
      ]
     },
     "execution_count": 224,
     "metadata": {},
     "output_type": "execute_result"
    }
   ],
   "source": [
    "r2_score(y_test,y_predict_lr) "
   ]
  },
  {
   "cell_type": "markdown",
   "id": "da1ebeca",
   "metadata": {},
   "source": [
    "Applying Lasso"
   ]
  },
  {
   "cell_type": "code",
   "execution_count": 229,
   "id": "e667b35a",
   "metadata": {},
   "outputs": [],
   "source": [
    "lasso = Lasso()"
   ]
  },
  {
   "cell_type": "code",
   "execution_count": 231,
   "id": "a51073b1",
   "metadata": {},
   "outputs": [],
   "source": [
    "pipe= make_pipeline(column_trans,scaler,lasso)"
   ]
  },
  {
   "cell_type": "code",
   "execution_count": 232,
   "id": "c392162a",
   "metadata": {},
   "outputs": [
    {
     "data": {
      "text/plain": [
       "Pipeline(steps=[('columntransformer',\n",
       "                 ColumnTransformer(remainder='passthrough',\n",
       "                                   transformers=[('onehotencoder',\n",
       "                                                  OneHotEncoder(sparse=False),\n",
       "                                                  ['location'])])),\n",
       "                ('standardscaler', StandardScaler()), ('lasso', Lasso())])"
      ]
     },
     "execution_count": 232,
     "metadata": {},
     "output_type": "execute_result"
    }
   ],
   "source": [
    "pipe.fit(X_train,y_train)"
   ]
  },
  {
   "cell_type": "code",
   "execution_count": 233,
   "id": "7a670064",
   "metadata": {},
   "outputs": [],
   "source": [
    "y_pred_lasso = pipe.predict(X_test)"
   ]
  },
  {
   "cell_type": "code",
   "execution_count": 234,
   "id": "c8cb52a6",
   "metadata": {},
   "outputs": [
    {
     "data": {
      "text/plain": [
       "0.812828565077272"
      ]
     },
     "execution_count": 234,
     "metadata": {},
     "output_type": "execute_result"
    }
   ],
   "source": [
    "r2_score(y_test,y_pred_lasso)"
   ]
  },
  {
   "cell_type": "markdown",
   "id": "da0236cd",
   "metadata": {},
   "source": [
    "Applying Ridge Regression"
   ]
  },
  {
   "cell_type": "code",
   "execution_count": 235,
   "id": "de3e110e",
   "metadata": {},
   "outputs": [
    {
     "data": {
      "text/plain": [
       "Pipeline(steps=[('columntransformer',\n",
       "                 ColumnTransformer(remainder='passthrough',\n",
       "                                   transformers=[('onehotencoder',\n",
       "                                                  OneHotEncoder(sparse=False),\n",
       "                                                  ['location'])])),\n",
       "                ('standardscaler', StandardScaler()), ('ridge', Ridge())])"
      ]
     },
     "execution_count": 235,
     "metadata": {},
     "output_type": "execute_result"
    }
   ],
   "source": [
    "ridge =Ridge()\n",
    "pipe= make_pipeline(column_trans,scaler,ridge)\n",
    "pipe.fit(X_train,y_train)"
   ]
  },
  {
   "cell_type": "code",
   "execution_count": 236,
   "id": "9426b57f",
   "metadata": {},
   "outputs": [],
   "source": [
    "y_pred_ridge = pipe.predict(X_test)"
   ]
  },
  {
   "cell_type": "code",
   "execution_count": 237,
   "id": "ee8bfd3a",
   "metadata": {},
   "outputs": [
    {
     "data": {
      "text/plain": [
       "0.8234146633312647"
      ]
     },
     "execution_count": 237,
     "metadata": {},
     "output_type": "execute_result"
    }
   ],
   "source": [
    "r2_score(y_test,y_pred_ridge)"
   ]
  },
  {
   "cell_type": "code",
   "execution_count": 240,
   "id": "69b0115c",
   "metadata": {},
   "outputs": [
    {
     "name": "stdout",
     "output_type": "stream",
     "text": [
      "No regualrisation: 0.8233889072444608\n",
      "Lasso Regression: 0.812828565077272\n",
      "Ridge Regression: 0.8234146633312647\n"
     ]
    }
   ],
   "source": [
    "print(\"No regualrisation:\",r2_score(y_test,y_predict_lr))\n",
    "print(\"Lasso Regression:\",r2_score(y_test,y_pred_lasso))\n",
    "print(\"Ridge Regression:\",r2_score(y_test,y_pred_ridge))"
   ]
  },
  {
   "cell_type": "code",
   "execution_count": 241,
   "id": "5ca43ba8",
   "metadata": {},
   "outputs": [],
   "source": [
    "import pickle"
   ]
  },
  {
   "cell_type": "code",
   "execution_count": 242,
   "id": "f9192b84",
   "metadata": {},
   "outputs": [],
   "source": [
    "pickle.dump(pipe,open('RidgeModel.pkl','wb'))"
   ]
  }
 ],
 "metadata": {
  "kernelspec": {
   "display_name": "Python 3 (ipykernel)",
   "language": "python",
   "name": "python3"
  },
  "language_info": {
   "codemirror_mode": {
    "name": "ipython",
    "version": 3
   },
   "file_extension": ".py",
   "mimetype": "text/x-python",
   "name": "python",
   "nbconvert_exporter": "python",
   "pygments_lexer": "ipython3",
   "version": "3.9.13"
  }
 },
 "nbformat": 4,
 "nbformat_minor": 5
}
